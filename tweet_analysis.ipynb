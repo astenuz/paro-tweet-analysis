{
 "cells": [
  {
   "cell_type": "code",
   "execution_count": 1,
   "metadata": {},
   "outputs": [],
   "source": [
    "import dataset"
   ]
  },
  {
   "cell_type": "code",
   "execution_count": 2,
   "metadata": {},
   "outputs": [],
   "source": [
    "db = dataset.connect(\"sqlite:///tweets.db\")\n",
    "table = db[\"tweets\"]"
   ]
  },
  {
   "cell_type": "code",
   "execution_count": 5,
   "metadata": {},
   "outputs": [],
   "source": [
    "tweets_iterator = db[\"tweets\"].all()\n",
    "\n",
    "tweets = list(tweets_iterator)"
   ]
  },
  {
   "cell_type": "code",
   "execution_count": 7,
   "metadata": {},
   "outputs": [
    {
     "data": {
      "text/plain": [
       "OrderedDict([('id', 1),\n",
       "             ('user_description',\n",
       "              '#DoYourThingAndrew\\nCEO, Founder: @parleico / @incorporian\\nLife Story Blogger✏📄🌎\\nEntrepreneur 👊 Creative 🎨💡📚\\nhttp://bit.ly/2Mn46zS'),\n",
       "             ('user_location', 'Bogotá, D.C., Colombia'),\n",
       "             ('coordinates', None),\n",
       "             ('text',\n",
       "              '#23Nov Duque no ha dicho una monda sobre hacernos escuchar en el Paro.\\n\\nEl Toque de Queda es para desviar el objeti… https://t.co/TMiXnpb1mA'),\n",
       "             ('user_name', 'Andrew_Bavuels'),\n",
       "             ('user_created', datetime.datetime(2009, 7, 30, 20, 46, 20)),\n",
       "             ('user_followers', 119),\n",
       "             ('id_str', '1198279455090851841'),\n",
       "             ('created', datetime.datetime(2019, 11, 23, 16, 37, 39)),\n",
       "             ('retweet_count', 0),\n",
       "             ('user_bg_color', 'C0DEED')])"
      ]
     },
     "execution_count": 7,
     "metadata": {},
     "output_type": "execute_result"
    }
   ],
   "source": [
    "tweets[0]"
   ]
  },
  {
   "cell_type": "code",
   "execution_count": null,
   "metadata": {
    "pycharm": {
     "name": "#%%\n"
    }
   },
   "outputs": [],
   "source": [
    "\n"
   ]
  }
 ],
 "metadata": {
  "kernelspec": {
   "display_name": "Python 3",
   "language": "python",
   "name": "python3"
  },
  "language_info": {
   "codemirror_mode": {
    "name": "ipython",
    "version": 3
   },
   "file_extension": ".py",
   "mimetype": "text/x-python",
   "name": "python",
   "nbconvert_exporter": "python",
   "pygments_lexer": "ipython3",
   "version": "3.7.5"
  },
  "pycharm": {
   "stem_cell": {
    "cell_type": "raw",
    "source": [],
    "metadata": {
     "collapsed": false
    }
   }
  }
 },
 "nbformat": 4,
 "nbformat_minor": 4
}